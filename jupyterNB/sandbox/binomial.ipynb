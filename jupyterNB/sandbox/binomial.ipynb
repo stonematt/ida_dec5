{
 "cells": [
  {
   "cell_type": "code",
   "execution_count": 140,
   "metadata": {},
   "outputs": [],
   "source": [
    "import numpy as np\n",
    "from matplotlib import pyplot as plt"
   ]
  },
  {
   "cell_type": "markdown",
   "metadata": {},
   "source": [
    "## binomial distribution study\n",
    "Consider the case of a coin flip.  there is a 50% probability of getting a \"heads\" on each coinflip.\n",
    "\n",
    "you might ask, what's the likelihood of getting a heads on 1 flip: respnse 50%.  What if you did 4 flips? - you wouldn't expect exactly 2 heads and 2 tails, in fact, you might get all heads. but if you did another series of 4, you probably wouldn't get all heads again, in fact doing it 10 times, 100% heads may be infrequent...\n",
    "\n",
    "a binomial distribution models this concept, by letting you set the number of experiments, n=4 in this case and and repeat it size=2 or 10 for the example above.\n",
    "\n",
    "```\n",
    "np.random.binomial(n, p, size=q) where\n",
    "n=4 -  number of coins to flip\n",
    "p=0.5 - likelihood of getting heads for each coin \n",
    "size=2 - number of times flip all 4 coins\n",
    "```\n",
    "\n",
    "> If you divide the np.array by the value of 'n' it converts the value to a proportion of times a result was acheived.  You can then compare this to the probability you expected, i.e, p. In other words, instead of getting \"3\" heads of the 4 coins, when you divide by n, you get 0.75"
   ]
  },
  {
   "cell_type": "code",
   "execution_count": 141,
   "metadata": {
    "scrolled": true
   },
   "outputs": [
    {
     "name": "stdout",
     "output_type": "stream",
     "text": [
      "number of times the coinflip was 'heads' of 4 flips\n",
      "[2 3 1 2 3 1 2 3 3 3]\n",
      "expressed in proportion of times it's heads is: \n",
      "[ 0.5   0.75  0.25  0.5   0.75  0.25  0.5   0.75  0.75  0.75]\n"
     ]
    }
   ],
   "source": [
    "n=4\n",
    "p=0.5\n",
    "repeats=10\n",
    "# run a test of the coinflip experiments\n",
    "test1 = np.random.binomial(n, p, size=repeats)\n",
    "test1p = test1 / float(n) #use float() to get non-integer response\n",
    "\n",
    "print(\"number of times the coinflip was \\'heads\\' of 4 flips\")\n",
    "print(test1)\n",
    "print(\"expressed in proportion of times it's heads is: \")\n",
    "print(test1p)"
   ]
  },
  {
   "cell_type": "markdown",
   "metadata": {},
   "source": [
    "in how many of these repeats did you actually get what you expected, in other words, when is the observed test equal to p?"
   ]
  },
  {
   "cell_type": "code",
   "execution_count": 142,
   "metadata": {
    "scrolled": true
   },
   "outputs": [
    {
     "name": "stdout",
     "output_type": "stream",
     "text": [
      "when flipping 4 coins 10 times, we only observed 50.0% heads\n",
      "30.0% of the time\n"
     ]
    }
   ],
   "source": [
    "test1percentp = np.mean(test1p == 0.5) * 100\n",
    "print(\"when flipping {nc} coins {reps} times, we only observed {pp}% heads\".\\\n",
    "      format(reps=repeats, nc=n, pp=p * 100))\n",
    "print(\"{}% of the time\".format(test1percentp))\n"
   ]
  },
  {
   "cell_type": "markdown",
   "metadata": {},
   "source": [
    "## What happens when you increase the number of repeat cycles (size)"
   ]
  },
  {
   "cell_type": "code",
   "execution_count": 143,
   "metadata": {},
   "outputs": [
    {
     "name": "stdout",
     "output_type": "stream",
     "text": [
      "upon fliping 4 coins 100 times, we got exactly 50% heads 46.0% of the time\n",
      "upon fliping 4 coins 200 times, we got exactly 50% heads 46.0% of the time\n",
      "upon fliping 4 coins 300 times, we got exactly 50% heads 31.7% of the time\n",
      "upon fliping 4 coins 400 times, we got exactly 50% heads 36.8% of the time\n",
      "upon fliping 4 coins 500 times, we got exactly 50% heads 40.6% of the time\n",
      "upon fliping 4 coins 600 times, we got exactly 50% heads 38.2% of the time\n",
      "upon fliping 4 coins 700 times, we got exactly 50% heads 40.3% of the time\n",
      "upon fliping 4 coins 800 times, we got exactly 50% heads 38.5% of the time\n",
      "upon fliping 4 coins 900 times, we got exactly 50% heads 35.9% of the time\n"
     ]
    }
   ],
   "source": [
    "for i in range(1,10):\n",
    "    #make size bigger faster so we can see the impact of growing size\n",
    "    testsize= i * 100 \n",
    "    increase_size_test = np.random.binomial(n, p, size=testsize)/n\n",
    "    print(\"upon fliping 4 coins {0} times, we got exactly 50% heads {1:.1f}% of the time\".\\\n",
    "         format(testsize,np.mean(increase_size_test == 0.5)*100))\n"
   ]
  },
  {
   "cell_type": "markdown",
   "metadata": {},
   "source": [
    "No matter how many times you flip 4 coins, the likelihood of getting your expected p (exactly 50%) is low, it seems to happen around 1/3 of the time.\n",
    "\n",
    "## what if we increase the number of experiments (n) in a cycle?"
   ]
  },
  {
   "cell_type": "code",
   "execution_count": 144,
   "metadata": {
    "scrolled": true
   },
   "outputs": [
    {
     "name": "stdout",
     "output_type": "stream",
     "text": [
      "upon flipping 100 coins 1,000 times, we got exactly 50% heads 6.0% of the time\n",
      "upon flipping 200 coins 1,000 times, we got exactly 50% heads 5.8% of the time\n",
      "upon flipping 300 coins 1,000 times, we got exactly 50% heads 5.2% of the time\n",
      "upon flipping 400 coins 1,000 times, we got exactly 50% heads 4.1% of the time\n",
      "upon flipping 500 coins 1,000 times, we got exactly 50% heads 3.3% of the time\n",
      "upon flipping 600 coins 1,000 times, we got exactly 50% heads 2.9% of the time\n",
      "upon flipping 700 coins 1,000 times, we got exactly 50% heads 2.3% of the time\n",
      "upon flipping 800 coins 1,000 times, we got exactly 50% heads 3.2% of the time\n",
      "upon flipping 900 coins 1,000 times, we got exactly 50% heads 2.5% of the time\n"
     ]
    }
   ],
   "source": [
    "for i in range(1,10):\n",
    "    #make n bigger faster so we can see the impact of growing size\n",
    "    ntest= i * 100 \n",
    "    increase_n_test = np.random.binomial(ntest, p, size=1000)/ntest\n",
    "    print(\"upon flipping {0} coins 1,000 times, we got exactly 50% heads {1:.1f}% of the time\".\\\n",
    "         format(ntest, np.mean(increase_n_test == 0.5)*100))\n",
    "   "
   ]
  },
  {
   "cell_type": "markdown",
   "metadata": {},
   "source": [
    "getting exactly 50% Heads turns out to be really unlikely.  probably should look at a histogram of each approach. to see the distribution around the expected p.\n",
    "\n",
    "## Histogram of increasing number of  repeats\n"
   ]
  },
  {
   "cell_type": "code",
   "execution_count": 145,
   "metadata": {
    "scrolled": true
   },
   "outputs": [
    {
     "name": "stdout",
     "output_type": "stream",
     "text": [
      "size:100 %cases exactly 50% heads: 41.0%\n",
      "size:400 %cases exactly 50% heads: 39.2%\n",
      "size:800 %cases exactly 50% heads: 33.8%\n",
      "size:1000 %cases exactly 50% heads: 38.7%\n"
     ]
    },
    {
     "data": {
      "image/png": "[encoded data removed]",
      "text/plain": [
       "<matplotlib.figure.Figure at 0x10e29c908>"
      ]
     },
     "metadata": {},
     "output_type": "display_data"
    },
    {
     "name": "stdout",
     "output_type": "stream",
     "text": [
      "possible values are each (0-n)/n, in this case 0/4, 1/4,..., 4/4\n"
     ]
    }
   ],
   "source": [
    "def increase_repeats(cycles):\n",
    "    # create a binomial distribution for coinflips where you \n",
    "    # flip a 4 coins several times, based on function input\n",
    "    p=0.5\n",
    "    n=4\n",
    "    dist = np.random.binomial(n, p, cycles) / float(n)\n",
    "    return dist\n",
    "\n",
    "# we want a common histogram...\n",
    "def histplot(cycles):\n",
    "    histseries = increase_repeats(cycles)\n",
    "    histlabel = \"size:\"+str(cycles)\n",
    "    plt.hist(histseries, normed=True, alpha=0.4, bins=5, label=histlabel)\n",
    "    # interquartile range calculations\n",
    "    first_quarter = np.percentile(histseries, 25)\n",
    "    third_quarter = np.percentile(histseries, 75)\n",
    "    print(histlabel, \"%cases exactly 50% heads: {0:.1f}%\".format(np.mean(histseries == 0.5)*100))\n",
    "\n",
    "histplot(100)\n",
    "histplot(400)\n",
    "histplot(800)\n",
    "histplot(1000)\n",
    "\n",
    "plt.title('histogram of distribution of \"heads\" in a coinflip')\n",
    "plt.xlabel('Percent of \"heads\" observed in group (possible values on 4 flips, 0, .25, .5, .75, 1.0)')\n",
    "plt.ylabel('Frequency')\n",
    "plt.legend()\n",
    "plt.show()\n",
    "print(\"possible values are each (0-n)/n, in this case 0/4, 1/4,..., 4/4\")"
   ]
  },
  {
   "cell_type": "markdown",
   "metadata": {},
   "source": [
    "The shape of the historgram is largely the same in each case. with strong centrality around 50%, but wide distribution, and fairly high frequency of the outliers because n is small...\n",
    "\n",
    "## Histogram of increasing number of flips in each cycle (increasing n)"
   ]
  },
  {
   "cell_type": "code",
   "execution_count": 146,
   "metadata": {
    "scrolled": true
   },
   "outputs": [
    {
     "name": "stdout",
     "output_type": "stream",
     "text": [
      "-flipping 4 coins 1,000 times, get Half heads 36.8% of the time, with interquartile range of 50.0%\n",
      "-flipping 20 coins 1,000 times, get Half heads 19.7% of the time, with interquartile range of 15.0%\n",
      "-flipping 80 coins 1,000 times, get Half heads 7.4% of the time, with interquartile range of 7.5%\n",
      "-flipping 1000 coins 1,000 times, get Half heads 2.6% of the time, with interquartile range of 2.1%\n"
     ]
    },
    {
     "data": {
      "image/png": "[encoded data removed]",
      "text/plain": [
       "<matplotlib.figure.Figure at 0x10ec74518>"
      ]
     },
     "metadata": {},
     "output_type": "display_data"
    }
   ],
   "source": [
    "def increase_flips(flips):\n",
    "    # create a binomial distribution for coinflips where you \n",
    "    # flip a x coins 1000 times, based on function input\n",
    "    p=0.5\n",
    "    n=flips\n",
    "    cycles=1000\n",
    "    dist = np.random.binomial(n, p, cycles) / float(n)\n",
    "    return dist\n",
    "\n",
    "# we want a common histogram...\n",
    "def histplot(flips):\n",
    "    histseries = increase_flips(flips)\n",
    "    histlabel = \"coins:\"+str(flips)\n",
    "    plt.hist(histseries, normed=True, alpha=0.4, bins=20, label=histlabel)\n",
    "    # interquartile range calculations\n",
    "    first_quarter = np.percentile(histseries, 25)\n",
    "    third_quarter = np.percentile(histseries, 75)\n",
    "    print(\"-flipping {nc} coins 1,000 times, get Half heads {np:.1f}% of the time, with interquartile range of {iq:.1f}%\".\\\n",
    "         format(np=np.mean(histseries == 0.5)*100, nc=flips, iq=((third_quarter - first_quarter)*100)))\n",
    "    \n",
    "\n",
    "histplot(4)\n",
    "histplot(20)\n",
    "histplot(80)\n",
    "histplot(1000)\n",
    "\n",
    "plt.title('histogram of distribution of \"heads\" in a coinflip')\n",
    "plt.xlabel('Percent of \"heads\" observed in group')\n",
    "plt.ylabel('Frequency')\n",
    "plt.legend()\n",
    "plt.show()\n"
   ]
  },
  {
   "cell_type": "markdown",
   "metadata": {},
   "source": [
    "Even though the percent of times we see exactly 50% heads reduces, the cluster around the expected value of p (0.5) tightens as the number of attempts in the series grows.\n",
    "\n",
    "Notice how the interquartile reduces to centrality as n increases..."
   ]
  }
 ],
 "metadata": {
  "kernelspec": {
   "display_name": "Python 3",
   "language": "python",
   "name": "python3"
  },
  "language_info": {
   "codemirror_mode": {
    "name": "ipython",
    "version": 3
   },
   "file_extension": ".py",
   "mimetype": "text/x-python",
   "name": "python",
   "nbconvert_exporter": "python",
   "pygments_lexer": "ipython3",
   "version": "3.6.3"
  }
 },
 "nbformat": 4,
 "nbformat_minor": 2
}
