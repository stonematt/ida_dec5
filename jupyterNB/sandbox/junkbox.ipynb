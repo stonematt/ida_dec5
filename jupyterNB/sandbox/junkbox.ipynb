{
 "cells": [
  {
   "cell_type": "markdown",
   "metadata": {},
   "source": [
    "## Unit 4 Hypothesis testing with Scipy\n",
    "### Day 1"
   ]
  },
  {
   "cell_type": "code",
   "execution_count": 8,
   "metadata": {
    "scrolled": true
   },
   "outputs": [
    {
     "name": "stdout",
     "output_type": "stream",
     "text": [
      "Population Mean: 64.47304282107247\n",
      "Sample 1 Mean: 64.06924199268173\n",
      "Sample 2 Mean: 65.55286259778346\n",
      "Sample 3 Mean: 64.12950605886938\n",
      "Sample 4 Mean: 65.23814364175765\n",
      "Sample 5 Mean: 65.10712675969043\n"
     ]
    }
   ],
   "source": [
    "import numpy as np\n",
    "\n",
    "population = np.random.normal(loc=65, scale=3.5, size=300)\n",
    "population_mean = np.mean(population)\n",
    "\n",
    "print(\"Population Mean: {}\".format(population_mean))\n",
    "\n",
    "# choose 30 random individuals form the population 5 times and compare\n",
    "sample_1 = np.random.choice(population, size=30, replace=False)\n",
    "sample_2 = np.random.choice(population, size=30, replace=False)\n",
    "sample_3 = np.random.choice(population, size=30, replace=False)\n",
    "sample_4 = np.random.choice(population, size=30, replace=False)\n",
    "sample_5 = np.random.choice(population, size=30, replace=False)\n",
    "\n",
    "sample_1_mean = np.mean(sample_1)\n",
    "print(\"Sample 1 Mean: {}\".format(sample_1_mean))\n",
    "\n",
    "sample_2_mean =  np.mean(sample_2)\n",
    "sample_3_mean =  np.mean(sample_3)\n",
    "sample_4_mean =  np.mean(sample_4)\n",
    "sample_5_mean =  np.mean(sample_5)\n",
    "\n",
    "print(\"Sample 2 Mean: {}\".format(sample_2_mean))\n",
    "print(\"Sample 3 Mean: {}\".format(sample_3_mean))\n",
    "print(\"Sample 4 Mean: {}\".format(sample_4_mean))\n",
    "print(\"Sample 5 Mean: {}\".format(sample_5_mean))\n"
   ]
  },
  {
   "cell_type": "markdown",
   "metadata": {},
   "source": [
    "samples are always a little different than the populations.\n"
   ]
  },
  {
   "cell_type": "code",
   "execution_count": null,
   "metadata": {},
   "outputs": [],
   "source": []
  }
 ],
 "metadata": {
  "kernelspec": {
   "display_name": "Python 3",
   "language": "python",
   "name": "python3"
  },
  "language_info": {
   "codemirror_mode": {
    "name": "ipython",
    "version": 3
   },
   "file_extension": ".py",
   "mimetype": "text/x-python",
   "name": "python",
   "nbconvert_exporter": "python",
   "pygments_lexer": "ipython3",
   "version": "3.6.3"
  }
 },
 "nbformat": 4,
 "nbformat_minor": 2
}
